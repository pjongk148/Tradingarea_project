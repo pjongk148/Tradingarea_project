{
 "cells": [
  {
   "cell_type": "code",
   "execution_count": 1,
   "metadata": {},
   "outputs": [],
   "source": [
    "#라이브러리\n",
    "import numpy as np\n",
    "import pandas as pd\n",
    "import matplotlib.pyplot as plt\n",
    "import seaborn as sns\n",
    "\n",
    "\n",
    "#그래프에 한글 표현하기\n",
    "import  matplotlib.font_manager as fm\n",
    "font_name = fm.FontProperties(fname = \"C:/Windows/Fonts/malgun.ttf\").get_name()\n",
    "plt.rc(\"font\", family = font_name)\n",
    "\n",
    "#마이너스 표시하기\n",
    "import  matplotlib as mlp\n",
    "mlp.rcParams[\"axes.unicode_minus\"]  = False\n"
   ]
  },
  {
   "cell_type": "markdown",
   "metadata": {},
   "source": [
    "# 동별 상권분석"
   ]
  },
  {
   "cell_type": "markdown",
   "metadata": {},
   "source": [
    "### 동별 음식점  개수  파악 분석결과\n",
    "+ 상위 4개의 좋은 상권은 아래와 같으며 그 중 인계동이 음식점 창업하기 좋은 상권으로 보인다\n",
    "\n",
    "+ 인계동     1128\n",
    "+ 매탄동     1009\n",
    "+ 영통동      983\n",
    "+ 권선동      827"
   ]
  },
  {
   "cell_type": "markdown",
   "metadata": {},
   "source": [
    "## 동별 아이템   파악\n",
    "\n",
    "###  인계동\n",
    "##### + 중국음식점  및 칵테일바가 유리해 보인다\n",
    "    - 일반한식     660\n",
    "    - 서양음식     212\n",
    "    - 주점          99\n",
    "    - 스넥        67\n",
    "    - 일식?회집     48\n",
    "    - 중국식       29\n",
    "    - 칵테일바      12\n",
    "    - 위탁급식업      1\n",
    "\n",
    "\n",
    "### 매탄동\n",
    "##### + 칵테일바 및 갈비전문점, 한정식 이 유리해 보인다\n",
    "    - 일반한식     536\n",
    "    - 서양음식     215\n",
    "    - 스넥       112\n",
    "    - 주점        68\n",
    "    - 중국식       34\n",
    "    - 일식?회집     31\n",
    "    - 칵테일바       9\n",
    "    - 갈비전문점      2\n",
    "    - 위탁급식업      2\n",
    "    \n",
    "    \n",
    "### 영통동\n",
    "##### + 중국집 및 칵테일바, 한정식 가 유리해 보인다\n",
    "    - 일반한식     525\n",
    "    - 서양음식     230\n",
    "    - 스넥        88\n",
    "    - 주점        73\n",
    "    - 일식?회집     37\n",
    "    - 중국식       26\n",
    "    - 칵테일바       4\n",
    "    \n",
    "    \n",
    "### 권선동\n",
    "##### + 한정식, 갈비전문점, 칵테일바가 유리해 보인다\n",
    "    - 일반한식     518\n",
    "    - 서양음식     122\n",
    "    - 스넥        83\n",
    "    - 주점        70\n",
    "    - 중국식       17\n",
    "    - 일식?회집     11\n",
    "    - 칵테일바       3\n",
    "    - 갈비전문점      1\n",
    "    - 위탁급식업      1\n",
    "    - 한정식        1"
   ]
  },
  {
   "cell_type": "code",
   "execution_count": 2,
   "metadata": {},
   "outputs": [
    {
     "data": {
      "text/html": [
       "<div>\n",
       "<style scoped>\n",
       "    .dataframe tbody tr th:only-of-type {\n",
       "        vertical-align: middle;\n",
       "    }\n",
       "\n",
       "    .dataframe tbody tr th {\n",
       "        vertical-align: top;\n",
       "    }\n",
       "\n",
       "    .dataframe thead th {\n",
       "        text-align: right;\n",
       "    }\n",
       "</style>\n",
       "<table border=\"1\" class=\"dataframe\">\n",
       "  <thead>\n",
       "    <tr style=\"text-align: right;\">\n",
       "      <th></th>\n",
       "      <th>상호명</th>\n",
       "      <th>업종명</th>\n",
       "      <th>업종대분류</th>\n",
       "      <th>업종소분류</th>\n",
       "      <th>소재지도로명주소</th>\n",
       "      <th>소재지지번주소</th>\n",
       "      <th>동명</th>\n",
       "      <th>우편번호</th>\n",
       "      <th>위도</th>\n",
       "      <th>경도</th>\n",
       "    </tr>\n",
       "  </thead>\n",
       "  <tbody>\n",
       "    <tr>\n",
       "      <th>0</th>\n",
       "      <td>#먹빵</td>\n",
       "      <td>일반휴게음식-일반한식</td>\n",
       "      <td>일반휴게음식</td>\n",
       "      <td>일반한식</td>\n",
       "      <td>경기 수원시 팔달구 권광로180번길 41,1층 (인계동)</td>\n",
       "      <td>경기도 수원시 팔달구 인계동 1121-10번지 1층</td>\n",
       "      <td>인계동</td>\n",
       "      <td>16488.0</td>\n",
       "      <td>37.263201</td>\n",
       "      <td>127.035101</td>\n",
       "    </tr>\n",
       "    <tr>\n",
       "      <th>1</th>\n",
       "      <td>(CPC)켈리포니아피자치킨 수원연무점</td>\n",
       "      <td>일반휴게음식-서양음식</td>\n",
       "      <td>일반휴게음식</td>\n",
       "      <td>서양음식</td>\n",
       "      <td>경기 수원시 장안구 월드컵로429번길 17,1층 (연무동)</td>\n",
       "      <td>경기도 수원시 장안구 연무동 258-23번지 1층</td>\n",
       "      <td>연무동</td>\n",
       "      <td>16221.0</td>\n",
       "      <td>37.293042</td>\n",
       "      <td>127.024989</td>\n",
       "    </tr>\n",
       "    <tr>\n",
       "      <th>2</th>\n",
       "      <td>(Cafe)화서문 41-1</td>\n",
       "      <td>일반휴게음식-서양음식</td>\n",
       "      <td>일반휴게음식</td>\n",
       "      <td>서양음식</td>\n",
       "      <td>경기 수원시 팔달구 화서문로 41-1화서문 CAFE (장안동)</td>\n",
       "      <td>경기도 수원시 팔달구 장안동 286-2번지 화서문 CAFE</td>\n",
       "      <td>장안동</td>\n",
       "      <td>16250.0</td>\n",
       "      <td>37.285348</td>\n",
       "      <td>127.012617</td>\n",
       "    </tr>\n",
       "    <tr>\n",
       "      <th>3</th>\n",
       "      <td>(MOOㅇO)무</td>\n",
       "      <td>일반휴게음식-서양음식</td>\n",
       "      <td>일반휴게음식</td>\n",
       "      <td>서양음식</td>\n",
       "      <td>경기 수원시 장안구 금당로89번길 8,1층 (조원동)</td>\n",
       "      <td>경기도 수원시 장안구 조원동 456-17번지 1층</td>\n",
       "      <td>조원동</td>\n",
       "      <td>16280.0</td>\n",
       "      <td>37.301359</td>\n",
       "      <td>127.019814</td>\n",
       "    </tr>\n",
       "    <tr>\n",
       "      <th>4</th>\n",
       "      <td>(愛):사랑</td>\n",
       "      <td>일반휴게음식-일반한식</td>\n",
       "      <td>일반휴게음식</td>\n",
       "      <td>일반한식</td>\n",
       "      <td>경기 수원시 팔달구 경수대로495번길 19(인계동,1층)</td>\n",
       "      <td>경기도 수원시 팔달구 인계동 965-18번지 1층</td>\n",
       "      <td>인계동</td>\n",
       "      <td>16481.0</td>\n",
       "      <td>37.270424</td>\n",
       "      <td>127.026642</td>\n",
       "    </tr>\n",
       "  </tbody>\n",
       "</table>\n",
       "</div>"
      ],
      "text/plain": [
       "                    상호명          업종명   업종대분류 업종소분류  \\\n",
       "0                   #먹빵  일반휴게음식-일반한식  일반휴게음식  일반한식   \n",
       "1  (CPC)켈리포니아피자치킨 수원연무점  일반휴게음식-서양음식  일반휴게음식  서양음식   \n",
       "2        (Cafe)화서문 41-1  일반휴게음식-서양음식  일반휴게음식  서양음식   \n",
       "3              (MOOㅇO)무  일반휴게음식-서양음식  일반휴게음식  서양음식   \n",
       "4                (愛):사랑  일반휴게음식-일반한식  일반휴게음식  일반한식   \n",
       "\n",
       "                             소재지도로명주소                           소재지지번주소   동명  \\\n",
       "0     경기 수원시 팔달구 권광로180번길 41,1층 (인계동)      경기도 수원시 팔달구 인계동 1121-10번지 1층  인계동   \n",
       "1    경기 수원시 장안구 월드컵로429번길 17,1층 (연무동)       경기도 수원시 장안구 연무동 258-23번지 1층  연무동   \n",
       "2  경기 수원시 팔달구 화서문로 41-1화서문 CAFE (장안동)  경기도 수원시 팔달구 장안동 286-2번지 화서문 CAFE  장안동   \n",
       "3       경기 수원시 장안구 금당로89번길 8,1층 (조원동)       경기도 수원시 장안구 조원동 456-17번지 1층  조원동   \n",
       "4     경기 수원시 팔달구 경수대로495번길 19(인계동,1층)       경기도 수원시 팔달구 인계동 965-18번지 1층  인계동   \n",
       "\n",
       "      우편번호         위도          경도  \n",
       "0  16488.0  37.263201  127.035101  \n",
       "1  16221.0  37.293042  127.024989  \n",
       "2  16250.0  37.285348  127.012617  \n",
       "3  16280.0  37.301359  127.019814  \n",
       "4  16481.0  37.270424  127.026642  "
      ]
     },
     "execution_count": 2,
     "metadata": {},
     "output_type": "execute_result"
    }
   ],
   "source": [
    "#동별 \n",
    "df = pd.read_csv(\"전처리완성본/지역화페 전처리 완성본.csv\")\n",
    "df.head()"
   ]
  },
  {
   "cell_type": "code",
   "execution_count": 3,
   "metadata": {},
   "outputs": [
    {
     "data": {
      "text/plain": [
       "인계동     8.581862\n",
       "매탄동     7.676506\n",
       "영통동     7.478698\n",
       "권선동     6.291844\n",
       "이의동     4.290931\n",
       "정자동     4.245283\n",
       "세류동     3.743153\n",
       "영화동     3.682288\n",
       "매산동     3.621424\n",
       "금곡동     3.461656\n",
       "우만동     3.446439\n",
       "화서동     3.301887\n",
       "원천동     3.119294\n",
       "율전동     2.906269\n",
       "송죽동     2.328058\n",
       "조원동     2.297626\n",
       "곡반정동    2.000913\n",
       "하동      1.978089\n",
       "탑동      1.978089\n",
       "구운동     1.940049\n",
       "파장동     1.886792\n",
       "망포동     1.795496\n",
       "호매실동    1.795496\n",
       "고색동     1.757456\n",
       "천천동     1.658551\n",
       "연무동     1.574863\n",
       "신동      1.232502\n",
       "행궁동     1.118381\n",
       "고등동     1.110773\n",
       "지동      0.943396\n",
       "오목천동    0.852100\n",
       "서둔동     0.707547\n",
       "신풍동     0.677115\n",
       "북수동     0.540170\n",
       "장안동     0.486914\n",
       "남수동     0.464090\n",
       "교동      0.448874\n",
       "당수동     0.388010\n",
       "매교동     0.372794\n",
       "남창동     0.319537\n",
       "평동      0.258673\n",
       "영동      0.243457\n",
       "중동      0.197809\n",
       "이목동     0.197809\n",
       "하광교동    0.152161\n",
       "입북동     0.136945\n",
       "상광교동    0.106512\n",
       "매향동     0.098904\n",
       "구천동     0.060864\n",
       "대황교동    0.015216\n",
       "장지동     0.015216\n",
       "평리동     0.015216\n",
       "Name: 동명, dtype: float64"
      ]
     },
     "execution_count": 3,
     "metadata": {},
     "output_type": "execute_result"
    }
   ],
   "source": [
    "#일반음식점 동별 개수 파악\n",
    "df[\"동명\"].value_counts()/13144 *100"
   ]
  },
  {
   "cell_type": "markdown",
   "metadata": {},
   "source": [
    "### 동별 음식점  개수  파악 분석결과\n",
    "\n",
    "+ 인계동     1128\n",
    "+ 매탄동     1009\n",
    "+ 영통동      983\n",
    "+ 권선동      827"
   ]
  },
  {
   "cell_type": "markdown",
   "metadata": {},
   "source": [
    "# 인계동, 매탄동, 영통동, 권선동 아이템  파악"
   ]
  },
  {
   "cell_type": "code",
   "execution_count": 4,
   "metadata": {},
   "outputs": [],
   "source": [
    "#동별 데이터  준비, #globals 전역변수\n",
    "for  i  in  [\"인계동\", \"매탄동\", \"영통동\", \"권선동\"]:\n",
    "    globals()[\"df_{}\".format(i)]=df[df[\"동명\"]==i]\n"
   ]
  },
  {
   "cell_type": "code",
   "execution_count": 5,
   "metadata": {},
   "outputs": [
    {
     "data": {
      "text/plain": [
       "0        일반한식\n",
       "4        일반한식\n",
       "11       일반한식\n",
       "31         스넥\n",
       "67       일반한식\n",
       "         ... \n",
       "13106    일반한식\n",
       "13107    서양음식\n",
       "13127    일반한식\n",
       "13129    일반한식\n",
       "13133    서양음식\n",
       "Name: 업종소분류, Length: 1128, dtype: object"
      ]
     },
     "execution_count": 5,
     "metadata": {},
     "output_type": "execute_result"
    }
   ],
   "source": [
    "df_인계동[\"업종소분류\"]"
   ]
  },
  {
   "cell_type": "code",
   "execution_count": 6,
   "metadata": {},
   "outputs": [
    {
     "name": "stderr",
     "output_type": "stream",
     "text": [
      "C:\\Users\\user\\anaconda3\\lib\\site-packages\\seaborn\\_decorators.py:36: FutureWarning: Pass the following variable as a keyword arg: x. From version 0.12, the only valid positional argument will be `data`, and passing other arguments without an explicit keyword will result in an error or misinterpretation.\n",
      "  warnings.warn(\n"
     ]
    },
    {
     "data": {
      "image/png": "[encoded data removed]",
      "text/plain": [
       "<Figure size 504x360 with 1 Axes>"
      ]
     },
     "metadata": {
      "needs_background": "light"
     },
     "output_type": "display_data"
    }
   ],
   "source": [
    "plt.figure(figsize = (7,5))\n",
    "ax = sns.countplot(\"업종소분류\", data =df_인계동, order = df_인계동[\"업종소분류\"].value_counts().index)\n",
    "ax.set_title(\"인계동 업종소분류\")\n",
    "ax.set_ylabel(\"업종개수\")\n",
    "\n",
    "\n",
    "#annotation\n",
    "for p in ax.patches:\n",
    "    ax.annotate(format(p.get_height(), '.0f'), #->정수로 나타내려면 '.0f'\n",
    "                   (p.get_x() + p.get_width() / 2., p.get_height()), \n",
    "                   ha = 'center', va = 'center', \n",
    "                   xytext = (0, 7), #글자랑 바 거리\n",
    "                   textcoords = 'offset points')\n",
    "\n",
    "\n",
    "plt.tight_layout()"
   ]
  },
  {
   "cell_type": "code",
   "execution_count": 7,
   "metadata": {},
   "outputs": [
    {
     "data": {
      "text/plain": [
       "일반한식     536\n",
       "서양음식     215\n",
       "스넥       112\n",
       "주점        68\n",
       "중국식       34\n",
       "일식?회집     31\n",
       "칵테일바       9\n",
       "위탁급식업      2\n",
       "갈비전문점      2\n",
       "Name: 업종소분류, dtype: int64"
      ]
     },
     "execution_count": 7,
     "metadata": {},
     "output_type": "execute_result"
    }
   ],
   "source": [
    "df_매탄동[\"업종소분류\"].value_counts()"
   ]
  },
  {
   "cell_type": "code",
   "execution_count": 8,
   "metadata": {},
   "outputs": [
    {
     "name": "stderr",
     "output_type": "stream",
     "text": [
      "C:\\Users\\user\\anaconda3\\lib\\site-packages\\seaborn\\_decorators.py:36: FutureWarning: Pass the following variable as a keyword arg: x. From version 0.12, the only valid positional argument will be `data`, and passing other arguments without an explicit keyword will result in an error or misinterpretation.\n",
      "  warnings.warn(\n"
     ]
    },
    {
     "data": {
      "image/png": "[encoded data removed]",
      "text/plain": [
       "<Figure size 504x360 with 1 Axes>"
      ]
     },
     "metadata": {
      "needs_background": "light"
     },
     "output_type": "display_data"
    }
   ],
   "source": [
    "plt.figure(figsize = (7,5))\n",
    "ax = sns.countplot(\"업종소분류\", data =df_매탄동, order = df_매탄동[\"업종소분류\"].value_counts().index)\n",
    "ax.set_title(\"매탄동 업종소분류\")\n",
    "ax.set_ylabel(\"업종개수\")\n",
    "\n",
    "\n",
    "#annotation\n",
    "for p in ax.patches:\n",
    "    ax.annotate(format(p.get_height(), '.0f'), #->정수로 나타내려면 '.0f'\n",
    "                   (p.get_x() + p.get_width() / 2., p.get_height()), \n",
    "                   ha = 'center', va = 'center', \n",
    "                   xytext = (0, 7), #글자랑 바 거리\n",
    "                   textcoords = 'offset points')\n",
    "\n",
    "plt.tight_layout()"
   ]
  },
  {
   "cell_type": "code",
   "execution_count": 9,
   "metadata": {},
   "outputs": [
    {
     "data": {
      "text/plain": [
       "일반한식     525\n",
       "서양음식     230\n",
       "스넥        88\n",
       "주점        73\n",
       "일식?회집     37\n",
       "중국식       26\n",
       "칵테일바       4\n",
       "Name: 업종소분류, dtype: int64"
      ]
     },
     "execution_count": 9,
     "metadata": {},
     "output_type": "execute_result"
    }
   ],
   "source": [
    "df_영통동[\"업종소분류\"].value_counts()"
   ]
  },
  {
   "cell_type": "code",
   "execution_count": 10,
   "metadata": {},
   "outputs": [
    {
     "name": "stderr",
     "output_type": "stream",
     "text": [
      "C:\\Users\\user\\anaconda3\\lib\\site-packages\\seaborn\\_decorators.py:36: FutureWarning: Pass the following variable as a keyword arg: x. From version 0.12, the only valid positional argument will be `data`, and passing other arguments without an explicit keyword will result in an error or misinterpretation.\n",
      "  warnings.warn(\n"
     ]
    },
    {
     "data": {
      "image/png": "[encoded data removed]",
      "text/plain": [
       "<Figure size 504x360 with 1 Axes>"
      ]
     },
     "metadata": {
      "needs_background": "light"
     },
     "output_type": "display_data"
    }
   ],
   "source": [
    "plt.figure(figsize = (7,5))\n",
    "ax = sns.countplot(\"업종소분류\", data =df_영통동, order = df_영통동[\"업종소분류\"].value_counts().index,palette=\"hls\")\n",
    "ax.set_title(\"영통동 업종소분류\")\n",
    "ax.set_ylabel(\"업종개수\")\n",
    "\n",
    "\n",
    "#annotation\n",
    "for p in ax.patches:\n",
    "    ax.annotate(format(p.get_height(), '.0f'), #->정수로 나타내려면 '.0f'\n",
    "                   (p.get_x() + p.get_width() / 2., p.get_height()), \n",
    "                   ha = 'center', va = 'center', \n",
    "                   xytext = (0, 7), #글자랑 바 거리\n",
    "                   textcoords = 'offset points')\n",
    "\n",
    "\n",
    "plt.tight_layout()\n",
    "plt.savefig('image/영통동 업종소분류.png',dpi = 200, bbox_inches='tight')"
   ]
  },
  {
   "cell_type": "code",
   "execution_count": 8,
   "metadata": {},
   "outputs": [
    {
     "data": {
      "text/plain": [
       "일반한식     518\n",
       "서양음식     122\n",
       "스넥        83\n",
       "주점        70\n",
       "중국식       17\n",
       "일식?회집     11\n",
       "칵테일바       3\n",
       "갈비전문점      1\n",
       "한정식        1\n",
       "위탁급식업      1\n",
       "Name: 업종소분류, dtype: int64"
      ]
     },
     "execution_count": 8,
     "metadata": {},
     "output_type": "execute_result"
    }
   ],
   "source": [
    "df_권선동[\"업종소분류\"].value_counts()\n",
    "\n"
   ]
  },
  {
   "cell_type": "code",
   "execution_count": 80,
   "metadata": {},
   "outputs": [
    {
     "name": "stderr",
     "output_type": "stream",
     "text": [
      "C:\\Users\\user\\anaconda3\\lib\\site-packages\\seaborn\\_decorators.py:36: FutureWarning: Pass the following variable as a keyword arg: x. From version 0.12, the only valid positional argument will be `data`, and passing other arguments without an explicit keyword will result in an error or misinterpretation.\n",
      "  warnings.warn(\n"
     ]
    },
    {
     "data": {
      "image/png": "[encoded data removed]",
      "text/plain": [
       "<Figure size 576x360 with 1 Axes>"
      ]
     },
     "metadata": {
      "needs_background": "light"
     },
     "output_type": "display_data"
    }
   ],
   "source": [
    "plt.figure(figsize = (8,5))\n",
    "ax = sns.countplot(\"업종소분류\", data =df_권선동,order = df_권선동[\"업종소분류\"].value_counts().index)\n",
    "ax.set_title(\"권선동 업종소분류\")\n",
    "ax.set_ylabel(\"업종개수\")\n",
    "\n",
    "#annotation\n",
    "for p in ax.patches:\n",
    "    ax.annotate(format(p.get_height(), '.0f'), #->정수로 나타내려면 '.0f'\n",
    "                   (p.get_x() + p.get_width() / 2., p.get_height()), \n",
    "                   ha = 'center', va = 'center', \n",
    "                   xytext = (0, 7), #글자랑 바 거리\n",
    "                   textcoords = 'offset points')\n",
    "\n",
    "plt.tight_layout()"
   ]
  },
  {
   "cell_type": "markdown",
   "metadata": {},
   "source": [
    "## 동별 아이템   파악\n",
    "\n",
    "+ 인계동\n",
    "    - 일반한식     660\n",
    "    - 서양음식     212\n",
    "    - 주점          99\n",
    "    - 스넥        67\n",
    "    - 일식?회집     48\n",
    "    - 중국식       29\n",
    "    - 칵테일바      12\n",
    "    - 위탁급식업      1\n",
    "\n",
    "\n",
    "+ 매탄동\n",
    "    - 일반한식     536\n",
    "    - 서양음식     215\n",
    "    - 스넥       112\n",
    "    - 주점        68\n",
    "    - 중국식       34\n",
    "    - 일식?회집     31\n",
    "    - 칵테일바       9\n",
    "    - 갈비전문점      2\n",
    "    - 위탁급식업      2\n",
    "    \n",
    "    \n",
    "+ 영통동\n",
    "    - 일반한식     525\n",
    "    - 서양음식     230\n",
    "    - 스넥        88\n",
    "    - 주점        73\n",
    "    - 일식?회집     37\n",
    "    - 중국식       26\n",
    "    - 칵테일바       4\n",
    "    \n",
    "    \n",
    "+ 권선동\n",
    "    - 일반한식     518\n",
    "    - 서양음식     122\n",
    "    - 스넥        83\n",
    "    - 주점        70\n",
    "    - 중국식       17\n",
    "    - 일식?회집     11\n",
    "    - 칵테일바       3\n",
    "    - 갈비전문점      1\n",
    "    - 위탁급식업      1\n",
    "    - 한정식        1"
   ]
  },
  {
   "cell_type": "code",
   "execution_count": null,
   "metadata": {},
   "outputs": [],
   "source": []
  },
  {
   "cell_type": "code",
   "execution_count": null,
   "metadata": {},
   "outputs": [],
   "source": []
  },
  {
   "cell_type": "code",
   "execution_count": null,
   "metadata": {},
   "outputs": [],
   "source": []
  }
 ],
 "metadata": {
  "kernelspec": {
   "display_name": "Python 3",
   "language": "python",
   "name": "python3"
  },
  "language_info": {
   "codemirror_mode": {
    "name": "ipython",
    "version": 3
   },
   "file_extension": ".py",
   "mimetype": "text/x-python",
   "name": "python",
   "nbconvert_exporter": "python",
   "pygments_lexer": "ipython3",
   "version": "3.8.5"
  }
 },
 "nbformat": 4,
 "nbformat_minor": 4
}
