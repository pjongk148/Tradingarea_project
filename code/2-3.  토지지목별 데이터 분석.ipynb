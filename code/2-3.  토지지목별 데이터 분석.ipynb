{
 "cells": [
  {
   "cell_type": "code",
   "execution_count": 1,
   "id": "f7273882",
   "metadata": {},
   "outputs": [],
   "source": [
    "import pandas as pd\n",
    "import numpy as np"
   ]
  },
  {
   "cell_type": "markdown",
   "id": "aec21f7c",
   "metadata": {},
   "source": [
    "## 분석결과\n",
    "\n",
    "\n",
    "#### + 권선동은 주차공간 확보가 쉬워 고객들의 접근성이 좋은 지역이다. 따라서 권선동은 매출가능성이 높다.\n",
    "    + 대지 대비 주차장 면적이 넓은 지역은 권선동>>인계동>매탄동>>영통동 이다.\n",
    "\n",
    "\n",
    "\n",
    "\n",
    "\n",
    "#### + 영통동은 체육용지가 많아 유동인구 및 고객확보가 용이할 것으로 보인다. 따라서 영통동은 매출가능성이 높다.\n",
    "    + 체육용지가 있는 곳은 매탄동>>영통동이다."
   ]
  },
  {
   "cell_type": "code",
   "execution_count": 21,
   "id": "336b2e10",
   "metadata": {},
   "outputs": [
    {
     "data": {
      "text/html": [
       "<div>\n",
       "<style scoped>\n",
       "    .dataframe tbody tr th:only-of-type {\n",
       "        vertical-align: middle;\n",
       "    }\n",
       "\n",
       "    .dataframe tbody tr th {\n",
       "        vertical-align: top;\n",
       "    }\n",
       "\n",
       "    .dataframe thead th {\n",
       "        text-align: right;\n",
       "    }\n",
       "</style>\n",
       "<table border=\"1\" class=\"dataframe\">\n",
       "  <thead>\n",
       "    <tr style=\"text-align: right;\">\n",
       "      <th></th>\n",
       "      <th>동</th>\n",
       "      <th>대지</th>\n",
       "      <th>주차장</th>\n",
       "      <th>도로</th>\n",
       "      <th>공원</th>\n",
       "      <th>체육용지</th>\n",
       "      <th>주차장면적/대지(%)</th>\n",
       "      <th>체육용지유무</th>\n",
       "    </tr>\n",
       "  </thead>\n",
       "  <tbody>\n",
       "    <tr>\n",
       "      <th>0</th>\n",
       "      <td>고등동</td>\n",
       "      <td>636808</td>\n",
       "      <td>1382</td>\n",
       "      <td>200471</td>\n",
       "      <td>1045</td>\n",
       "      <td>0</td>\n",
       "      <td>0.22</td>\n",
       "      <td>0</td>\n",
       "    </tr>\n",
       "    <tr>\n",
       "      <th>1</th>\n",
       "      <td>고색동</td>\n",
       "      <td>805980</td>\n",
       "      <td>32969</td>\n",
       "      <td>742749</td>\n",
       "      <td>287418</td>\n",
       "      <td>13502</td>\n",
       "      <td>4.09</td>\n",
       "      <td>1</td>\n",
       "    </tr>\n",
       "    <tr>\n",
       "      <th>2</th>\n",
       "      <td>곡반정동</td>\n",
       "      <td>377577</td>\n",
       "      <td>35627</td>\n",
       "      <td>260895</td>\n",
       "      <td>45011</td>\n",
       "      <td>0</td>\n",
       "      <td>9.44</td>\n",
       "      <td>0</td>\n",
       "    </tr>\n",
       "    <tr>\n",
       "      <th>3</th>\n",
       "      <td>교동</td>\n",
       "      <td>163742</td>\n",
       "      <td>0</td>\n",
       "      <td>37239</td>\n",
       "      <td>0</td>\n",
       "      <td>0</td>\n",
       "      <td>0.00</td>\n",
       "      <td>0</td>\n",
       "    </tr>\n",
       "    <tr>\n",
       "      <th>4</th>\n",
       "      <td>구운동</td>\n",
       "      <td>668053</td>\n",
       "      <td>3767</td>\n",
       "      <td>358174</td>\n",
       "      <td>112258</td>\n",
       "      <td>0</td>\n",
       "      <td>0.56</td>\n",
       "      <td>0</td>\n",
       "    </tr>\n",
       "  </tbody>\n",
       "</table>\n",
       "</div>"
      ],
      "text/plain": [
       "      동      대지    주차장      도로      공원   체육용지  주차장면적/대지(%)  체육용지유무\n",
       "0   고등동  636808   1382  200471    1045      0         0.22       0\n",
       "1   고색동  805980  32969  742749  287418  13502         4.09       1\n",
       "2  곡반정동  377577  35627  260895   45011      0         9.44       0\n",
       "3    교동  163742      0   37239       0      0         0.00       0\n",
       "4   구운동  668053   3767  358174  112258      0         0.56       0"
      ]
     },
     "execution_count": 21,
     "metadata": {},
     "output_type": "execute_result"
    }
   ],
   "source": [
    "df = pd.read_csv(\"전처리완성본/토지지목별 현황 전처리 완성본.csv\")\n",
    "df.head()"
   ]
  },
  {
   "cell_type": "markdown",
   "id": "3011b3bf",
   "metadata": {},
   "source": [
    "###  분석결과"
   ]
  },
  {
   "cell_type": "code",
   "execution_count": 23,
   "id": "4d4dd1ef",
   "metadata": {},
   "outputs": [
    {
     "data": {
      "text/html": [
       "<div>\n",
       "<style scoped>\n",
       "    .dataframe tbody tr th:only-of-type {\n",
       "        vertical-align: middle;\n",
       "    }\n",
       "\n",
       "    .dataframe tbody tr th {\n",
       "        vertical-align: top;\n",
       "    }\n",
       "\n",
       "    .dataframe thead th {\n",
       "        text-align: right;\n",
       "    }\n",
       "</style>\n",
       "<table border=\"1\" class=\"dataframe\">\n",
       "  <thead>\n",
       "    <tr style=\"text-align: right;\">\n",
       "      <th></th>\n",
       "      <th>동</th>\n",
       "      <th>대지</th>\n",
       "      <th>주차장</th>\n",
       "      <th>도로</th>\n",
       "      <th>공원</th>\n",
       "      <th>체육용지</th>\n",
       "      <th>주차장면적/대지(%)</th>\n",
       "      <th>체육용지유무</th>\n",
       "    </tr>\n",
       "  </thead>\n",
       "  <tbody>\n",
       "    <tr>\n",
       "      <th>6</th>\n",
       "      <td>권선동</td>\n",
       "      <td>2122641</td>\n",
       "      <td>19947</td>\n",
       "      <td>966087</td>\n",
       "      <td>396523</td>\n",
       "      <td>0</td>\n",
       "      <td>0.94</td>\n",
       "      <td>0</td>\n",
       "    </tr>\n",
       "    <tr>\n",
       "      <th>34</th>\n",
       "      <td>인계동</td>\n",
       "      <td>1496044</td>\n",
       "      <td>6837</td>\n",
       "      <td>685728</td>\n",
       "      <td>244682</td>\n",
       "      <td>0</td>\n",
       "      <td>0.46</td>\n",
       "      <td>0</td>\n",
       "    </tr>\n",
       "    <tr>\n",
       "      <th>15</th>\n",
       "      <td>매탄동</td>\n",
       "      <td>1955610</td>\n",
       "      <td>8666</td>\n",
       "      <td>703913</td>\n",
       "      <td>241504</td>\n",
       "      <td>5802</td>\n",
       "      <td>0.44</td>\n",
       "      <td>1</td>\n",
       "    </tr>\n",
       "    <tr>\n",
       "      <th>26</th>\n",
       "      <td>영통동</td>\n",
       "      <td>1602983</td>\n",
       "      <td>334</td>\n",
       "      <td>796872</td>\n",
       "      <td>538627</td>\n",
       "      <td>16514</td>\n",
       "      <td>0.02</td>\n",
       "      <td>1</td>\n",
       "    </tr>\n",
       "  </tbody>\n",
       "</table>\n",
       "</div>"
      ],
      "text/plain": [
       "      동       대지    주차장      도로      공원   체육용지  주차장면적/대지(%)  체육용지유무\n",
       "6   권선동  2122641  19947  966087  396523      0         0.94       0\n",
       "34  인계동  1496044   6837  685728  244682      0         0.46       0\n",
       "15  매탄동  1955610   8666  703913  241504   5802         0.44       1\n",
       "26  영통동  1602983    334  796872  538627  16514         0.02       1"
      ]
     },
     "execution_count": 23,
     "metadata": {},
     "output_type": "execute_result"
    }
   ],
   "source": [
    "#대지 대비 주차장 면적이 넓은 지역은 권선동>>인계동>매탄동>>영통동 이다.\n",
    "#체육용지가 있는 곳은 매탄동 영통동이다.\n",
    "df[df[\"동\"].isin([\"인계동\",\"영통동\",\"매탄동\",\"권선동\"])].sort_values(\"주차장면적/대지(%)\", ascending=False)"
   ]
  },
  {
   "cell_type": "code",
   "execution_count": null,
   "id": "7d5bc6bc",
   "metadata": {},
   "outputs": [],
   "source": []
  },
  {
   "cell_type": "code",
   "execution_count": null,
   "id": "35130a8b",
   "metadata": {},
   "outputs": [],
   "source": []
  },
  {
   "cell_type": "code",
   "execution_count": null,
   "id": "e3c24a6b",
   "metadata": {},
   "outputs": [],
   "source": []
  },
  {
   "cell_type": "code",
   "execution_count": null,
   "id": "d295c066",
   "metadata": {},
   "outputs": [],
   "source": []
  },
  {
   "cell_type": "code",
   "execution_count": null,
   "id": "9f730cb9",
   "metadata": {},
   "outputs": [],
   "source": []
  },
  {
   "cell_type": "code",
   "execution_count": null,
   "id": "6b4f9667",
   "metadata": {},
   "outputs": [],
   "source": []
  },
  {
   "cell_type": "code",
   "execution_count": null,
   "id": "3ba63702",
   "metadata": {},
   "outputs": [],
   "source": []
  },
  {
   "cell_type": "code",
   "execution_count": null,
   "id": "ecb40699",
   "metadata": {},
   "outputs": [],
   "source": []
  },
  {
   "cell_type": "code",
   "execution_count": null,
   "id": "735202e9",
   "metadata": {},
   "outputs": [],
   "source": [
    "\n"
   ]
  }
 ],
 "metadata": {
  "kernelspec": {
   "display_name": "Python 3",
   "language": "python",
   "name": "python3"
  },
  "language_info": {
   "codemirror_mode": {
    "name": "ipython",
    "version": 3
   },
   "file_extension": ".py",
   "mimetype": "text/x-python",
   "name": "python",
   "nbconvert_exporter": "python",
   "pygments_lexer": "ipython3",
   "version": "3.8.5"
  }
 },
 "nbformat": 4,
 "nbformat_minor": 5
}
